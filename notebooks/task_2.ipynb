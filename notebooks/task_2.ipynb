{
 "cells": [
  {
   "cell_type": "markdown",
   "metadata": {},
   "source": [
    "Create Aggregate Features"
   ]
  },
  {
   "cell_type": "code",
   "execution_count": 2,
   "metadata": {},
   "outputs": [],
   "source": [
    "import pandas as pd\n",
    "df = pd.read_csv('../data/data.csv')"
   ]
  },
  {
   "cell_type": "code",
   "execution_count": 3,
   "metadata": {},
   "outputs": [
    {
     "name": "stdout",
     "output_type": "stream",
     "text": [
      "       TotalTransactionAmount  AvgTransactionAmount  TransactionCount  \\\n",
      "count            3.742000e+03          3.742000e+03       3742.000000   \n",
      "mean             1.717377e+05          1.571562e+04         25.564404   \n",
      "std              2.717305e+06          1.676991e+05         96.929602   \n",
      "min             -1.049000e+08         -4.250000e+05          1.000000   \n",
      "25%              4.077438e+03          1.000000e+03          2.000000   \n",
      "50%              2.000000e+04          2.583846e+03          7.000000   \n",
      "75%              7.996775e+04          4.877614e+03         20.000000   \n",
      "max              8.345124e+07          8.601821e+06       4091.000000   \n",
      "\n",
      "       StdDevTransactionAmount  \n",
      "count             3.742000e+03  \n",
      "mean              1.360517e+04  \n",
      "std               9.689344e+04  \n",
      "min               0.000000e+00  \n",
      "25%               5.011411e+02  \n",
      "50%               3.184898e+03  \n",
      "75%               6.745369e+03  \n",
      "max               3.309916e+06  \n"
     ]
    },
    {
     "name": "stderr",
     "output_type": "stream",
     "text": [
      "C:\\Users\\USER\\AppData\\Local\\Temp\\ipykernel_17928\\1904682079.py:8: FutureWarning: A value is trying to be set on a copy of a DataFrame or Series through chained assignment using an inplace method.\n",
      "The behavior will change in pandas 3.0. This inplace method will never work because the intermediate object on which we are setting values always behaves as a copy.\n",
      "\n",
      "For example, when doing 'df[col].method(value, inplace=True)', try using 'df.method({col: value}, inplace=True)' or df[col] = df[col].method(value) instead, to perform the operation inplace on the original object.\n",
      "\n",
      "\n",
      "  customer_aggregates['StdDevTransactionAmount'].fillna(0, inplace=True)\n"
     ]
    }
   ],
   "source": [
    "customer_aggregates = df.groupby('CustomerId').agg(\n",
    "    TotalTransactionAmount=('Amount', 'sum'),\n",
    "    AvgTransactionAmount=('Amount', 'mean'),\n",
    "    TransactionCount=('TransactionId', 'count'),\n",
    "    StdDevTransactionAmount=('Amount', 'std')  \n",
    ").reset_index()\n",
    "\n",
    "customer_aggregates['StdDevTransactionAmount'].fillna(0, inplace=True)\n",
    "\n",
    "print(customer_aggregates.describe())\n"
   ]
  },
  {
   "cell_type": "markdown",
   "metadata": {},
   "source": [
    "Extract Features"
   ]
  },
  {
   "cell_type": "code",
   "execution_count": 4,
   "metadata": {},
   "outputs": [
    {
     "name": "stdout",
     "output_type": "stream",
     "text": [
      "       TransactionHour  TransactionDay  TransactionMonth  TransactionYear\n",
      "count     95662.000000    95662.000000      95662.000000     95662.000000\n",
      "mean         12.447722       15.902898          6.566233      2018.497115\n",
      "std           4.846964        8.962822          5.224310         0.499994\n",
      "min           0.000000        1.000000          1.000000      2018.000000\n",
      "25%           8.000000        8.000000          1.000000      2018.000000\n",
      "50%          13.000000       16.000000         11.000000      2018.000000\n",
      "75%          17.000000       24.000000         12.000000      2019.000000\n",
      "max          23.000000       31.000000         12.000000      2019.000000\n"
     ]
    }
   ],
   "source": [
    "df['TransactionStartTime'] = pd.to_datetime(df['TransactionStartTime'])\n",
    "\n",
    "df['TransactionHour'] = df['TransactionStartTime'].dt.hour\n",
    "df['TransactionDay'] = df['TransactionStartTime'].dt.day\n",
    "df['TransactionMonth'] = df['TransactionStartTime'].dt.month\n",
    "df['TransactionYear'] = df['TransactionStartTime'].dt.year\n",
    "\n",
    "print(df[['TransactionHour', 'TransactionDay', 'TransactionMonth', 'TransactionYear']].describe())"
   ]
  }
 ],
 "metadata": {
  "kernelspec": {
   "display_name": "venv",
   "language": "python",
   "name": "python3"
  },
  "language_info": {
   "codemirror_mode": {
    "name": "ipython",
    "version": 3
   },
   "file_extension": ".py",
   "mimetype": "text/x-python",
   "name": "python",
   "nbconvert_exporter": "python",
   "pygments_lexer": "ipython3",
   "version": "3.11.2"
  }
 },
 "nbformat": 4,
 "nbformat_minor": 2
}
